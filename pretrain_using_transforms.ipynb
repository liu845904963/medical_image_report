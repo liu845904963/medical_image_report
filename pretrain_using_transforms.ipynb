{
 "cells": [
  {
   "cell_type": "code",
   "execution_count": null,
   "metadata": {},
   "outputs": [],
   "source": [
    "import numpy as np\n",
    "import os\n",
    "import pandas as pd\n",
    "from sklearn import metrics\n",
    "import transformers\n",
    "import time\n",
    "import torch\n",
    "from tqdm import tqdm\n",
    "from torch.utils.data import Dataset, DataLoader, RandomSampler, SequentialSampler\n",
    "from transformers import BertTokenizer, BertModel, BertConfig\n",
    "device = torch.device('cuda' if torch.cuda.is_available() else 'cpu')\n",
    "import warnings\n",
    "warnings.filterwarnings('ignore')\n",
    "model_save='pretrain6'\n",
    "if not os.path.exists(model_save):\n",
    "    os.mkdir(model_save)"
   ]
  },
  {
   "cell_type": "code",
   "execution_count": null,
   "metadata": {},
   "outputs": [],
   "source": [
    "import pandas as pd\n",
    "train_df=pd.read_csv('dataset/track1_round1_train_20210222.csv',header=None)\n",
    "test_df=pd.read_csv('dataset/track1_round1_testA_20210222.csv',header=None) \n",
    "train_df.columns=['report_ID','description','label']\n",
    "test_df.columns=['report_ID','description']\n",
    "train_df.drop(['report_ID'],axis=1,inplace=True)\n",
    "test_df.drop(['report_ID'],axis=1,inplace=True)\n",
    "new_des=[i.strip('|').strip() for i in train_df['description'].values]\n",
    "new_label=[i.strip('|').strip() for i in train_df['label'].values]\n",
    "train_df['description']=new_des\n",
    "train_df['label']=new_label\n",
    "new_des=[i.strip('|').strip() for i in test_df['description'].values]\n",
    "test_df['description']=new_des"
   ]
  },
  {
   "cell_type": "code",
   "execution_count": null,
   "metadata": {},
   "outputs": [],
   "source": [
    "from transformers import BertTokenizerFast,BertForMaskedLM,BertConfig,\\\n",
    "LineByLineTextDataset,DataCollatorForLanguageModeling,Trainer,TrainingArguments\n",
    "from tokenizers import BertWordPieceTokenizer"
   ]
  },
  {
   "cell_type": "code",
   "execution_count": null,
   "metadata": {},
   "outputs": [],
   "source": [
    "# tokenizer=BertPreTokenizer()\n",
    "# tokenizer.train()"
   ]
  },
  {
   "cell_type": "code",
   "execution_count": null,
   "metadata": {},
   "outputs": [],
   "source": [
    "tokenizer=BertTokenizerFast.from_pretrained('pre/',max_len=128)"
   ]
  },
  {
   "cell_type": "code",
   "execution_count": null,
   "metadata": {},
   "outputs": [],
   "source": [
    "config=BertConfig(vocab_size=863,\n",
    "                  num_attention_heads=12,\n",
    "                  num_hidden_layers=12,\n",
    "                  hidden_size=768)\n",
    "model=BertForMaskedLM(config=config)\n",
    "print(model.num_parameters())"
   ]
  },
  {
   "cell_type": "code",
   "execution_count": null,
   "metadata": {},
   "outputs": [],
   "source": [
    "dataset=LineByLineTextDataset(tokenizer=tokenizer,\n",
    "                              file_path='pre/sentence.txt',\n",
    "                              block_size=128)\n",
    "data_collator =DataCollatorForLanguageModeling(tokenizer=tokenizer,mlm=True,mlm_probability  = 0.15)"
   ]
  },
  {
   "cell_type": "code",
   "execution_count": null,
   "metadata": {},
   "outputs": [],
   "source": [
    "training_args=TrainingArguments(\n",
    "                output_dir=model_save,\n",
    "                overwrite_output_dir=True,\n",
    "                num_train_epochs=128,\n",
    "                per_gpu_train_batch_size=64,\n",
    "                save_total_limit=2,\n",
    "                weight_decay=0.001,\n",
    "                            )\n",
    "trainer=Trainer(\n",
    "    model=model,\n",
    "    args=training_args,\n",
    "    data_collator=data_collator,\n",
    "    train_dataset=dataset,\n",
    "    prediction_loss_only=True\n",
    "    \n",
    "\n",
    ")\n",
    "trainer.train()"
   ]
  },
  {
   "cell_type": "code",
   "execution_count": null,
   "metadata": {},
   "outputs": [],
   "source": [
    "trainer.save_model(model_save)"
   ]
  },
  {
   "cell_type": "code",
   "execution_count": null,
   "metadata": {},
   "outputs": [],
   "source": [
    "import transformers\n",
    "print(transformers.__version__)"
   ]
  }
 ],
 "metadata": {
  "kernelspec": {
   "display_name": "Python 3",
   "language": "python",
   "name": "python3"
  },
  "language_info": {
   "codemirror_mode": {
    "name": "ipython",
    "version": 3
   },
   "file_extension": ".py",
   "mimetype": "text/x-python",
   "name": "python",
   "nbconvert_exporter": "python",
   "pygments_lexer": "ipython3",
   "version": "3.6.8"
  }
 },
 "nbformat": 4,
 "nbformat_minor": 4
}
